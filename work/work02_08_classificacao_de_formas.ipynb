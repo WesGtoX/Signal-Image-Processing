{
  "nbformat": 4,
  "nbformat_minor": 0,
  "metadata": {
    "colab": {
      "name": "work02_08_classificacao_de_formas.ipynb",
      "provenance": [],
      "collapsed_sections": []
    },
    "kernelspec": {
      "name": "python3",
      "display_name": "Python 3"
    }
  },
  "cells": [
    {
      "cell_type": "markdown",
      "metadata": {
        "id": "u3ljvwOskucd"
      },
      "source": [
        "# **Processamento de Imagens e Imagens**\n",
        "Engenharia da Computação - 2021.01\n",
        "\n",
        "**Wesley de Oliveira Mendes, 828.507**"
      ]
    },
    {
      "cell_type": "markdown",
      "metadata": {
        "id": "j5o68g0_pKir"
      },
      "source": [
        "## Tarefa 08 - Classificação de Formas\n",
        "- Objetivo\n",
        "    - Desenvolver um sistema de visão computacional para classificação de formas."
      ]
    },
    {
      "cell_type": "markdown",
      "metadata": {
        "id": "tRSfZeB2kvSl"
      },
      "source": [
        "### Download das imagens"
      ]
    },
    {
      "cell_type": "markdown",
      "metadata": {
        "id": "5F40xot4lG5j"
      },
      "source": [
        "### Imports"
      ]
    },
    {
      "cell_type": "code",
      "metadata": {
        "id": "pQYdPnY3lGBj"
      },
      "source": [
        "import cv2 as cv\n",
        "import numpy as np\n",
        "import pandas as pd\n",
        "import matplotlib.pyplot as plt\n",
        "\n",
        "from sklearn.preprocessing import StandardScaler\n",
        "from sklearn.model_selection import train_test_split\n",
        "from sklearn.neighbors import KNeighborsClassifier\n",
        "from sklearn.metrics import accuracy_score"
      ],
      "execution_count": 14,
      "outputs": []
    },
    {
      "cell_type": "markdown",
      "metadata": {
        "id": "pn5vHxeZkzuX"
      },
      "source": [
        "### Code"
      ]
    },
    {
      "cell_type": "markdown",
      "metadata": {
        "id": "qLYK1aQVsnTO"
      },
      "source": [
        "#### Exercício"
      ]
    },
    {
      "cell_type": "code",
      "metadata": {
        "id": "TctFe8I3yXt1"
      },
      "source": [
        "path = '/content/drive/MyDrive/Colab Notebooks/College/Signal-Image-Processing/data/frutas_dataset'"
      ],
      "execution_count": 15,
      "outputs": []
    },
    {
      "cell_type": "code",
      "metadata": {
        "id": "SbV05ai0ZqL4"
      },
      "source": [
        "classification = (\n",
        "    ('001', '030', 'Maça'),\n",
        "    ('031', '060', 'Abacaxi'),\n",
        "    ('061', '090', 'Banana'),\n",
        "    ('091', '120', 'Pêssego'),\n",
        "    ('121', '150', 'Pitanga'),\n",
        "    ('151', '180', 'Laranja'),\n",
        "    ('181', '210', 'Morango'),\n",
        "    ('211', '240', 'Pera'),\n",
        "    ('241', '270', 'Limão'),\n",
        "    ('271', '300', 'Uva')\n",
        ")"
      ],
      "execution_count": 16,
      "outputs": []
    },
    {
      "cell_type": "code",
      "metadata": {
        "id": "viqPOK0QjvGl"
      },
      "source": [
        "# dicionario para salvar dados das imagens\n",
        "dataset = {\n",
        "    'Diameter': [], \n",
        "    'Perimeter': [], \n",
        "    'Area': [], \n",
        "    'Compactness': [], \n",
        "    'Eccentricity': [],\n",
        "    'Rectangularity': [],\n",
        "    'Solidity': [], \n",
        "    'Classes': [],\n",
        "}\n",
        "\n",
        "# loop para extrar dados de indices\n",
        "for start, end, classes in classification:\n",
        "    # loop para extrar dados das imagens\n",
        "    for i in range(int(start), int(end) + 1):\n",
        "        image = cv.imread(f'{path}/{i:03d}.bmp')\n",
        "        image = cv.cvtColor(image, cv.COLOR_BGR2RGB)\n",
        "        image = cv.cvtColor(image, cv.COLOR_BGR2GRAY)\n",
        "        \n",
        "        _, image = cv.threshold(image, 127, 255, cv.THRESH_BINARY_INV)\n",
        "        contour, order = cv.findContours(image, cv.RETR_TREE, cv.CHAIN_APPROX_SIMPLE)\n",
        "\n",
        "        # extrair diametro\n",
        "        diameter = np.sqrt(4 * cv.contourArea(contour[0]) / np.pi)\n",
        "        dataset['Diameter'].append(float(diameter))\n",
        "\n",
        "        # extrair perimetro\n",
        "        perimeter = cv.countNonZero(cv.Canny(image, 50, 100))\n",
        "        dataset['Perimeter'].append(float(perimeter))\n",
        "\n",
        "        # extrair area\n",
        "        area = cv.countNonZero(image)\n",
        "        dataset['Area'].append(float(area))\n",
        "        \n",
        "        # extrair compacidade\n",
        "        compactness = np.square(perimeter / area)\n",
        "        dataset['Compactness'].append(float(compactness))\n",
        "\n",
        "        # extrair excentricidade\n",
        "        eccentricity = 0\n",
        "        \n",
        "        if len(contour[0]) > 5:\n",
        "            (x, y), (minor_axis, major_axis), angle = cv.fitEllipse(contour[0])\n",
        "            eccentricity = major_axis / minor_axis\n",
        "        \n",
        "        dataset['Eccentricity'].append(float(eccentricity))\n",
        "\n",
        "        # extrair retangularidade\n",
        "        compactness = np.square(perimeter / area)\n",
        "        dataset['Rectangularity'].append(float(compactness))\n",
        "\n",
        "        # extrair solidez\n",
        "        area_obj = cv.contourArea(contour[0])\n",
        "        area_fechoconvexo = cv.contourArea(cv.convexHull(contour[0]))\n",
        "        solidity = area_obj / area\n",
        "        dataset['Solidity'].append(float(solidity))\n",
        "        \n",
        "        # especificar classe da imagem\n",
        "        dataset['Classes'].append(classes)"
      ],
      "execution_count": 17,
      "outputs": []
    },
    {
      "cell_type": "code",
      "metadata": {
        "colab": {
          "base_uri": "https://localhost:8080/",
          "height": 206
        },
        "id": "OoB4hAFasjb_",
        "outputId": "8b841160-6b11-487a-c30c-a196519f5669"
      },
      "source": [
        "# criar datafram pandas a partir do dicionario gerado\n",
        "df = pd.DataFrame(dataset)\n",
        "df.head()"
      ],
      "execution_count": 18,
      "outputs": [
        {
          "output_type": "execute_result",
          "data": {
            "text/html": [
              "<div>\n",
              "<style scoped>\n",
              "    .dataframe tbody tr th:only-of-type {\n",
              "        vertical-align: middle;\n",
              "    }\n",
              "\n",
              "    .dataframe tbody tr th {\n",
              "        vertical-align: top;\n",
              "    }\n",
              "\n",
              "    .dataframe thead th {\n",
              "        text-align: right;\n",
              "    }\n",
              "</style>\n",
              "<table border=\"1\" class=\"dataframe\">\n",
              "  <thead>\n",
              "    <tr style=\"text-align: right;\">\n",
              "      <th></th>\n",
              "      <th>Diameter</th>\n",
              "      <th>Perimeter</th>\n",
              "      <th>Area</th>\n",
              "      <th>Compactness</th>\n",
              "      <th>Eccentricity</th>\n",
              "      <th>Rectangularity</th>\n",
              "      <th>Solidity</th>\n",
              "      <th>Classes</th>\n",
              "    </tr>\n",
              "  </thead>\n",
              "  <tbody>\n",
              "    <tr>\n",
              "      <th>0</th>\n",
              "      <td>0.000000</td>\n",
              "      <td>1595.0</td>\n",
              "      <td>37892.0</td>\n",
              "      <td>0.001772</td>\n",
              "      <td>0.0</td>\n",
              "      <td>0.001772</td>\n",
              "      <td>0.000000</td>\n",
              "      <td>Maça</td>\n",
              "    </tr>\n",
              "    <tr>\n",
              "      <th>1</th>\n",
              "      <td>0.000000</td>\n",
              "      <td>1583.0</td>\n",
              "      <td>37340.0</td>\n",
              "      <td>0.001797</td>\n",
              "      <td>0.0</td>\n",
              "      <td>0.001797</td>\n",
              "      <td>0.000000</td>\n",
              "      <td>Maça</td>\n",
              "    </tr>\n",
              "    <tr>\n",
              "      <th>2</th>\n",
              "      <td>0.000000</td>\n",
              "      <td>1634.0</td>\n",
              "      <td>37661.0</td>\n",
              "      <td>0.001882</td>\n",
              "      <td>0.0</td>\n",
              "      <td>0.001882</td>\n",
              "      <td>0.000000</td>\n",
              "      <td>Maça</td>\n",
              "    </tr>\n",
              "    <tr>\n",
              "      <th>3</th>\n",
              "      <td>0.000000</td>\n",
              "      <td>1595.0</td>\n",
              "      <td>37326.0</td>\n",
              "      <td>0.001826</td>\n",
              "      <td>0.0</td>\n",
              "      <td>0.001826</td>\n",
              "      <td>0.000000</td>\n",
              "      <td>Maça</td>\n",
              "    </tr>\n",
              "    <tr>\n",
              "      <th>4</th>\n",
              "      <td>0.797885</td>\n",
              "      <td>1595.0</td>\n",
              "      <td>37587.0</td>\n",
              "      <td>0.001801</td>\n",
              "      <td>0.0</td>\n",
              "      <td>0.001801</td>\n",
              "      <td>0.000013</td>\n",
              "      <td>Maça</td>\n",
              "    </tr>\n",
              "  </tbody>\n",
              "</table>\n",
              "</div>"
            ],
            "text/plain": [
              "   Diameter  Perimeter     Area  ...  Rectangularity  Solidity  Classes\n",
              "0  0.000000     1595.0  37892.0  ...        0.001772  0.000000     Maça\n",
              "1  0.000000     1583.0  37340.0  ...        0.001797  0.000000     Maça\n",
              "2  0.000000     1634.0  37661.0  ...        0.001882  0.000000     Maça\n",
              "3  0.000000     1595.0  37326.0  ...        0.001826  0.000000     Maça\n",
              "4  0.797885     1595.0  37587.0  ...        0.001801  0.000013     Maça\n",
              "\n",
              "[5 rows x 8 columns]"
            ]
          },
          "metadata": {
            "tags": []
          },
          "execution_count": 18
        }
      ]
    },
    {
      "cell_type": "code",
      "metadata": {
        "colab": {
          "base_uri": "https://localhost:8080/"
        },
        "id": "lmViGo2HSiyP",
        "outputId": "fd17b45f-6758-4617-f134-072dd504abe8"
      },
      "source": [
        "# extrair label de classificacao\n",
        "labels = df['Classes'].astype('category').cat.categories.tolist()\n",
        "labels_to_replace = {'Classes' : {k: v for k,v in zip(labels, list(range(1, len(labels) + 1)))}}\n",
        "print(labels_to_replace)"
      ],
      "execution_count": 19,
      "outputs": [
        {
          "output_type": "stream",
          "text": [
            "{'Classes': {'Abacaxi': 1, 'Banana': 2, 'Laranja': 3, 'Limão': 4, 'Maça': 5, 'Morango': 6, 'Pera': 7, 'Pitanga': 8, 'Pêssego': 9, 'Uva': 10}}\n"
          ],
          "name": "stdout"
        }
      ]
    },
    {
      "cell_type": "code",
      "metadata": {
        "colab": {
          "base_uri": "https://localhost:8080/",
          "height": 206
        },
        "id": "_C8FXqnmSO3K",
        "outputId": "b5d45b52-190d-45eb-c55f-684da28b44ed"
      },
      "source": [
        "# substituir label texto de classificacao para numerico\n",
        "df.replace(labels_to_replace, inplace=True)\n",
        "dataframe = df.copy()\n",
        "dataframe.head()"
      ],
      "execution_count": 20,
      "outputs": [
        {
          "output_type": "execute_result",
          "data": {
            "text/html": [
              "<div>\n",
              "<style scoped>\n",
              "    .dataframe tbody tr th:only-of-type {\n",
              "        vertical-align: middle;\n",
              "    }\n",
              "\n",
              "    .dataframe tbody tr th {\n",
              "        vertical-align: top;\n",
              "    }\n",
              "\n",
              "    .dataframe thead th {\n",
              "        text-align: right;\n",
              "    }\n",
              "</style>\n",
              "<table border=\"1\" class=\"dataframe\">\n",
              "  <thead>\n",
              "    <tr style=\"text-align: right;\">\n",
              "      <th></th>\n",
              "      <th>Diameter</th>\n",
              "      <th>Perimeter</th>\n",
              "      <th>Area</th>\n",
              "      <th>Compactness</th>\n",
              "      <th>Eccentricity</th>\n",
              "      <th>Rectangularity</th>\n",
              "      <th>Solidity</th>\n",
              "      <th>Classes</th>\n",
              "    </tr>\n",
              "  </thead>\n",
              "  <tbody>\n",
              "    <tr>\n",
              "      <th>0</th>\n",
              "      <td>0.000000</td>\n",
              "      <td>1595.0</td>\n",
              "      <td>37892.0</td>\n",
              "      <td>0.001772</td>\n",
              "      <td>0.0</td>\n",
              "      <td>0.001772</td>\n",
              "      <td>0.000000</td>\n",
              "      <td>5</td>\n",
              "    </tr>\n",
              "    <tr>\n",
              "      <th>1</th>\n",
              "      <td>0.000000</td>\n",
              "      <td>1583.0</td>\n",
              "      <td>37340.0</td>\n",
              "      <td>0.001797</td>\n",
              "      <td>0.0</td>\n",
              "      <td>0.001797</td>\n",
              "      <td>0.000000</td>\n",
              "      <td>5</td>\n",
              "    </tr>\n",
              "    <tr>\n",
              "      <th>2</th>\n",
              "      <td>0.000000</td>\n",
              "      <td>1634.0</td>\n",
              "      <td>37661.0</td>\n",
              "      <td>0.001882</td>\n",
              "      <td>0.0</td>\n",
              "      <td>0.001882</td>\n",
              "      <td>0.000000</td>\n",
              "      <td>5</td>\n",
              "    </tr>\n",
              "    <tr>\n",
              "      <th>3</th>\n",
              "      <td>0.000000</td>\n",
              "      <td>1595.0</td>\n",
              "      <td>37326.0</td>\n",
              "      <td>0.001826</td>\n",
              "      <td>0.0</td>\n",
              "      <td>0.001826</td>\n",
              "      <td>0.000000</td>\n",
              "      <td>5</td>\n",
              "    </tr>\n",
              "    <tr>\n",
              "      <th>4</th>\n",
              "      <td>0.797885</td>\n",
              "      <td>1595.0</td>\n",
              "      <td>37587.0</td>\n",
              "      <td>0.001801</td>\n",
              "      <td>0.0</td>\n",
              "      <td>0.001801</td>\n",
              "      <td>0.000013</td>\n",
              "      <td>5</td>\n",
              "    </tr>\n",
              "  </tbody>\n",
              "</table>\n",
              "</div>"
            ],
            "text/plain": [
              "   Diameter  Perimeter     Area  ...  Rectangularity  Solidity  Classes\n",
              "0  0.000000     1595.0  37892.0  ...        0.001772  0.000000        5\n",
              "1  0.000000     1583.0  37340.0  ...        0.001797  0.000000        5\n",
              "2  0.000000     1634.0  37661.0  ...        0.001882  0.000000        5\n",
              "3  0.000000     1595.0  37326.0  ...        0.001826  0.000000        5\n",
              "4  0.797885     1595.0  37587.0  ...        0.001801  0.000013        5\n",
              "\n",
              "[5 rows x 8 columns]"
            ]
          },
          "metadata": {
            "tags": []
          },
          "execution_count": 20
        }
      ]
    },
    {
      "cell_type": "code",
      "metadata": {
        "colab": {
          "base_uri": "https://localhost:8080/",
          "height": 206
        },
        "id": "6GbBOf0TbNa7",
        "outputId": "e331e843-76cd-4d21-9a91-eb680ccedae3"
      },
      "source": [
        "# remover colunas desnecessarias\n",
        "df.drop(['Diameter', 'Solidity'], axis=1, inplace=True)\n",
        "df.head()"
      ],
      "execution_count": 21,
      "outputs": [
        {
          "output_type": "execute_result",
          "data": {
            "text/html": [
              "<div>\n",
              "<style scoped>\n",
              "    .dataframe tbody tr th:only-of-type {\n",
              "        vertical-align: middle;\n",
              "    }\n",
              "\n",
              "    .dataframe tbody tr th {\n",
              "        vertical-align: top;\n",
              "    }\n",
              "\n",
              "    .dataframe thead th {\n",
              "        text-align: right;\n",
              "    }\n",
              "</style>\n",
              "<table border=\"1\" class=\"dataframe\">\n",
              "  <thead>\n",
              "    <tr style=\"text-align: right;\">\n",
              "      <th></th>\n",
              "      <th>Perimeter</th>\n",
              "      <th>Area</th>\n",
              "      <th>Compactness</th>\n",
              "      <th>Eccentricity</th>\n",
              "      <th>Rectangularity</th>\n",
              "      <th>Classes</th>\n",
              "    </tr>\n",
              "  </thead>\n",
              "  <tbody>\n",
              "    <tr>\n",
              "      <th>0</th>\n",
              "      <td>1595.0</td>\n",
              "      <td>37892.0</td>\n",
              "      <td>0.001772</td>\n",
              "      <td>0.0</td>\n",
              "      <td>0.001772</td>\n",
              "      <td>5</td>\n",
              "    </tr>\n",
              "    <tr>\n",
              "      <th>1</th>\n",
              "      <td>1583.0</td>\n",
              "      <td>37340.0</td>\n",
              "      <td>0.001797</td>\n",
              "      <td>0.0</td>\n",
              "      <td>0.001797</td>\n",
              "      <td>5</td>\n",
              "    </tr>\n",
              "    <tr>\n",
              "      <th>2</th>\n",
              "      <td>1634.0</td>\n",
              "      <td>37661.0</td>\n",
              "      <td>0.001882</td>\n",
              "      <td>0.0</td>\n",
              "      <td>0.001882</td>\n",
              "      <td>5</td>\n",
              "    </tr>\n",
              "    <tr>\n",
              "      <th>3</th>\n",
              "      <td>1595.0</td>\n",
              "      <td>37326.0</td>\n",
              "      <td>0.001826</td>\n",
              "      <td>0.0</td>\n",
              "      <td>0.001826</td>\n",
              "      <td>5</td>\n",
              "    </tr>\n",
              "    <tr>\n",
              "      <th>4</th>\n",
              "      <td>1595.0</td>\n",
              "      <td>37587.0</td>\n",
              "      <td>0.001801</td>\n",
              "      <td>0.0</td>\n",
              "      <td>0.001801</td>\n",
              "      <td>5</td>\n",
              "    </tr>\n",
              "  </tbody>\n",
              "</table>\n",
              "</div>"
            ],
            "text/plain": [
              "   Perimeter     Area  Compactness  Eccentricity  Rectangularity  Classes\n",
              "0     1595.0  37892.0     0.001772           0.0        0.001772        5\n",
              "1     1583.0  37340.0     0.001797           0.0        0.001797        5\n",
              "2     1634.0  37661.0     0.001882           0.0        0.001882        5\n",
              "3     1595.0  37326.0     0.001826           0.0        0.001826        5\n",
              "4     1595.0  37587.0     0.001801           0.0        0.001801        5"
            ]
          },
          "metadata": {
            "tags": []
          },
          "execution_count": 21
        }
      ]
    },
    {
      "cell_type": "code",
      "metadata": {
        "id": "UoL9DPIsvYZ3"
      },
      "source": [
        "# separar as caracteristicas e os rotulos\n",
        "X = df.iloc[:, :3]  # caracteristicas \n",
        "y = df.iloc[:, -1]  # rotulos"
      ],
      "execution_count": 22,
      "outputs": []
    },
    {
      "cell_type": "code",
      "metadata": {
        "id": "L6SpaNr5wJBK"
      },
      "source": [
        "# PROCESSAMENTO\n",
        "# dividir o conjunto de dados em treinamento e teste\n",
        "X_train, X_test, y_train, y_test = train_test_split(X, y, test_size=0.30, random_state=25)"
      ],
      "execution_count": 23,
      "outputs": []
    },
    {
      "cell_type": "code",
      "metadata": {
        "id": "dHehrbf7wbew"
      },
      "source": [
        "# normalizacao dos dados\n",
        "normalize = StandardScaler()\n",
        "normalize.fit(X_train)\n",
        "\n",
        "X_train = normalize.transform(X_train)\n",
        "X_test = normalize.transform(X_test)"
      ],
      "execution_count": 24,
      "outputs": []
    },
    {
      "cell_type": "code",
      "metadata": {
        "id": "ALa57ZcXwy3E"
      },
      "source": [
        "# classificador\n",
        "knn = KNeighborsClassifier(n_neighbors=3)\n",
        "knn.fit(X_train, y_train)\n",
        "Y = knn.predict(X_test)"
      ],
      "execution_count": 25,
      "outputs": []
    },
    {
      "cell_type": "code",
      "metadata": {
        "colab": {
          "base_uri": "https://localhost:8080/"
        },
        "id": "ZkGBYvihxGqW",
        "outputId": "090c33e3-2029-4cf6-8819-845f0539768d"
      },
      "source": [
        "# resultado\n",
        "acc = accuracy_score(y_test, Y)\n",
        "print(f'Accuracy {acc:.2f}\\n')\n",
        "\n",
        "# Matriz confusao\n",
        "print(pd.crosstab(y_test, Y, rownames=['True'], colnames=['Predicao'], margins=True))"
      ],
      "execution_count": 26,
      "outputs": [
        {
          "output_type": "stream",
          "text": [
            "Accuracy 0.87\n",
            "\n",
            "Predicao  1  2   3  4   5   6   7  8  9  10  All\n",
            "True                                            \n",
            "1         9  0   0  0   0   0   0  0  0   0    9\n",
            "2         0  9   0  0   0   0   0  0  0   0    9\n",
            "3         0  0  10  0   0   0   0  0  0   0   10\n",
            "4         0  0   0  4   0   0   0  0  0   0    4\n",
            "5         0  0   0  0  10   0   0  0  0   0   10\n",
            "6         0  0   0  0   0   5   5  0  0   0   10\n",
            "7         0  0   0  0   0   2   5  0  0   0    7\n",
            "8         0  0   0  0   0   0   0  9  0   0    9\n",
            "9         0  0   0  0   2   0   0  0  9   0   11\n",
            "10        0  0   0  0   0   3   0  0  0   8   11\n",
            "All       9  9  10  4  12  10  10  9  9   8   90\n"
          ],
          "name": "stdout"
        }
      ]
    }
  ]
}