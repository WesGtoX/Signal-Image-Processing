{
  "nbformat": 4,
  "nbformat_minor": 0,
  "metadata": {
    "colab": {
      "name": "aula06_2021-04-06_segmentacao_por_cor.ipynb",
      "provenance": [],
      "collapsed_sections": []
    },
    "kernelspec": {
      "name": "python3",
      "display_name": "Python 3"
    }
  },
  "cells": [
    {
      "cell_type": "markdown",
      "metadata": {
        "id": "u3ljvwOskucd"
      },
      "source": [
        "# **Processamento de Imagens e Imagens**\n",
        "Engenharia da Computação - 2021.01"
      ]
    },
    {
      "cell_type": "markdown",
      "metadata": {
        "id": "j5o68g0_pKir"
      },
      "source": [
        "## Segmentação por Cor"
      ]
    },
    {
      "cell_type": "markdown",
      "metadata": {
        "id": "tRSfZeB2kvSl"
      },
      "source": [
        "### Download das imagens de teste"
      ]
    },
    {
      "cell_type": "code",
      "metadata": {
        "id": "CwNXubgQk99H"
      },
      "source": [
        ""
      ],
      "execution_count": null,
      "outputs": []
    },
    {
      "cell_type": "markdown",
      "metadata": {
        "id": "5F40xot4lG5j"
      },
      "source": [
        "### Imports"
      ]
    },
    {
      "cell_type": "code",
      "metadata": {
        "id": "pQYdPnY3lGBj"
      },
      "source": [
        "import cv2 as cv\n",
        "import numpy as np\n",
        "import matplotlib.pyplot as plt"
      ],
      "execution_count": 1,
      "outputs": []
    },
    {
      "cell_type": "markdown",
      "metadata": {
        "id": "pn5vHxeZkzuX"
      },
      "source": [
        "### Code"
      ]
    },
    {
      "cell_type": "code",
      "metadata": {
        "id": "_asDr13OE3jd"
      },
      "source": [
        "# Geracao de uma imagem artificial de 500x500 com 3 canais na cor branca\n",
        "img1 = np.ones((500, 500, 3), np.uint8) * 255\n",
        "img1 = cv.circle(img1, (50, 50), 30, (255, 0, 0), -1)\n",
        "img1 = cv.circle(img1, (350, 60), 40, (255, 0, 0), -1)\n",
        "img1 = cv.circle(img1, (50, 460), 50, (255, 0, 0), -1)\n",
        "img1 = cv.circle(img1, (250, 260), 40, (255, 0, 0), -1)\n",
        "img1 = cv.circle(img1, (460, 460), 30, (0, 0, 255), -1)\n",
        "img1 = cv.circle(img1, (260, 460), 30, (0, 0, 255), -1)\n",
        "img1 = cv.circle(img1, (440, 160), 50, (0, 0, 255), -1)\n",
        "img1 = cv.circle(img1, (60, 160), 50, (0, 0, 255), -1)\n",
        "img1 = cv.circle(img1, (260, 120), 50, (255, 255, 0), -1)\n",
        "img1 = cv.circle(img1, (400, 320), 50, (255, 255, 0), -1)\n",
        "img1 = cv.circle(img1, (80, 320), 50, (255, 255, 0), -1)\n",
        "\n",
        "img1 = cv.circle(img1, (460, 460), 30, (3, 22, 252), -1)\n",
        "\n",
        "# CONVERTER a imagem de RGB para HSV\n",
        "img2 = cv.cvtColor(img1, cv.COLOR_RGB2HSV)\n",
        "\n",
        "# SEGMENTAR os pixels no intervalo da cor AZUL\n",
        "ini = np.array([100, 120, 80])  # Matiz, Saturacao, Luminancia\n",
        "fim = np.array([140, 255, 255])\n",
        "img3 = cv.inRange(img2, ini, fim)\n",
        "\n",
        "# SEGMENTAR os pixels no intervalo da cor VERMELHO\n",
        "ini = np.array([0, 120, 80])\n",
        "fim = np.array([20, 255, 255])\n",
        "img4 = cv.inRange(img2, ini, fim)\n",
        "\n",
        "# SEGMENTAR os pixels no intervalo da cor AMARELO\n",
        "ini = np.array([20, 120, 80])\n",
        "fim = np.array([60, 255, 255])\n",
        "img5 = cv.inRange(img2, ini, fim)"
      ],
      "execution_count": 2,
      "outputs": []
    },
    {
      "cell_type": "code",
      "metadata": {
        "id": "L2Vi9KsLsv9x",
        "colab": {
          "base_uri": "https://localhost:8080/",
          "height": 258
        },
        "outputId": "60e7bad8-8dad-443c-d10c-8bdd3afa7b02"
      },
      "source": [
        "plt.figure(figsize=(16, 8))\n",
        "plt.subplot(141), plt.imshow(img1), plt.title('original')\n",
        "plt.subplot(142), plt.imshow(img3, cmap='binary'), plt.title('segmentacao do azul')\n",
        "plt.subplot(143), plt.imshow(img4, cmap='binary'), plt.title('segmentacao do vermelho')\n",
        "plt.subplot(144), plt.imshow(img5, cmap='binary'), plt.title('segmentacao do amarelo')\n",
        "plt.show()"
      ],
      "execution_count": 3,
      "outputs": [
        {
          "output_type": "display_data",
          "data": {
            "image/png": "[encoded data removed]",
            "text/plain": [
              "<Figure size 1152x576 with 4 Axes>"
            ]
          },
          "metadata": {
            "tags": [],
            "needs_background": "light"
          }
        }
      ]
    },
    {
      "cell_type": "markdown",
      "metadata": {
        "id": "WL8U1v-dqcyF"
      },
      "source": [
        "### Exercises"
      ]
    },
    {
      "cell_type": "markdown",
      "metadata": {
        "id": "pssmIh20A1ri"
      },
      "source": [
        "#### Imports"
      ]
    },
    {
      "cell_type": "code",
      "metadata": {
        "id": "8Srkq-oiAzhE"
      },
      "source": [
        ""
      ],
      "execution_count": 3,
      "outputs": []
    },
    {
      "cell_type": "markdown",
      "metadata": {
        "id": "rqivH2WoA6Di"
      },
      "source": [
        "#### Code"
      ]
    },
    {
      "cell_type": "code",
      "metadata": {
        "id": "l93dv1IUzbKw"
      },
      "source": [
        ""
      ],
      "execution_count": 3,
      "outputs": []
    }
  ]
}